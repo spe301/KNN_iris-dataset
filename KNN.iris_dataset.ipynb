{
 "cells": [
  {
   "cell_type": "code",
   "execution_count": 18,
   "metadata": {},
   "outputs": [],
   "source": [
    "# Import the necessary functions\n",
    "import pandas as pd\n",
    "from sklearn.model_selection import train_test_split\n",
    "from sklearn.datasets import load_iris\n",
    "from sklearn.metrics import accuracy_score\n",
    "from sklearn.preprocessing import StandardScaler\n",
    "from sklearn.neighbors import KNeighborsClassifier\n",
    "from sklearn.model_selection import train_test_split\n",
    "import numpy as np\n",
    "from sklearn.metrics import plot_confusion_matrix\n",
    "\n",
    "\n",
    "iris = pd.DataFrame(load_iris()['data'])\n",
    "data = load_iris(return_X_y=True, as_frame=True)[0]\n",
    "target = load_iris(return_X_y=True, as_frame=True)[1]"
   ]
  },
  {
   "cell_type": "code",
   "execution_count": 19,
   "metadata": {},
   "outputs": [
    {
     "data": {
      "text/plain": [
       "0      0\n",
       "1      0\n",
       "2      0\n",
       "3      0\n",
       "4      0\n",
       "      ..\n",
       "145    2\n",
       "146    2\n",
       "147    2\n",
       "148    2\n",
       "149    2\n",
       "Name: target, Length: 150, dtype: int32"
      ]
     },
     "execution_count": 19,
     "metadata": {},
     "output_type": "execute_result"
    }
   ],
   "source": [
    "target"
   ]
  },
  {
   "cell_type": "code",
   "execution_count": 20,
   "metadata": {},
   "outputs": [],
   "source": [
    "data\n",
    "scaled = pd.DataFrame(StandardScaler().fit(data).transform(data))\n",
    "scaled.columns = list(data.columns)"
   ]
  },
  {
   "cell_type": "code",
   "execution_count": 21,
   "metadata": {},
   "outputs": [],
   "source": [
    "X_train, X_test, y_train, y_test = train_test_split(data, target, test_size=0.3)\n",
    "X_trs, X_tes, y_trs, y_tes = train_test_split(scaled, target, test_size=0.3)"
   ]
  },
  {
   "cell_type": "code",
   "execution_count": 22,
   "metadata": {},
   "outputs": [
    {
     "data": {
      "text/plain": [
       "15"
      ]
     },
     "execution_count": 22,
     "metadata": {},
     "output_type": "execute_result"
    }
   ],
   "source": [
    "max_k = int(len(X_test)/len(np.unique(y_test)))\n",
    "max_k"
   ]
  },
  {
   "cell_type": "code",
   "execution_count": 23,
   "metadata": {},
   "outputs": [
    {
     "name": "stdout",
     "output_type": "stream",
     "text": [
      "1: 0.9333333333333333\n",
      "3: 0.9333333333333333\n",
      "5: 0.9333333333333333\n",
      "7: 0.9555555555555556\n",
      "9: 0.9777777777777777\n",
      "11: 0.9777777777777777\n",
      "13: 0.9777777777777777\n",
      "15: 0.9777777777777777\n"
     ]
    }
   ],
   "source": [
    "def KNN(X_train, X_test, y_train, y_test, max_k, min_k=1):\n",
    "    for i in range(min_k, max_k+1):\n",
    "        if i % 2 != 0:\n",
    "            model = KNeighborsClassifier(n_neighbors=i).fit(X_train, y_train)\n",
    "            print(f\"{i}: {model.score(X_test, y_test)}\")\n",
    "\n",
    "regular_data = KNN(X_train, X_test, y_train, y_test, 15)\n",
    "regular_data"
   ]
  },
  {
   "cell_type": "code",
   "execution_count": 24,
   "metadata": {},
   "outputs": [
    {
     "name": "stdout",
     "output_type": "stream",
     "text": [
      "1: 0.9555555555555556\n",
      "3: 0.9777777777777777\n",
      "5: 0.9777777777777777\n",
      "7: 1.0\n",
      "9: 1.0\n",
      "11: 0.9777777777777777\n",
      "13: 0.9777777777777777\n",
      "15: 1.0\n"
     ]
    }
   ],
   "source": [
    "scaled_data = KNN(X_trs, X_tes, y_trs, y_tes, 15)"
   ]
  },
  {
   "cell_type": "code",
   "execution_count": 25,
   "metadata": {},
   "outputs": [],
   "source": [
    "from sklearn.metrics import plot_confusion_matrix\n",
    "\n",
    "final_model = KNeighborsClassifier(n_neighbors=9).fit(X_trs, y_trs)\n",
    "predictions = final_model.predict(X_tes)"
   ]
  },
  {
   "cell_type": "code",
   "execution_count": 26,
   "metadata": {},
   "outputs": [
    {
     "data": {
      "text/plain": [
       "<sklearn.metrics._plot.confusion_matrix.ConfusionMatrixDisplay at 0x177b0ce99b0>"
      ]
     },
     "execution_count": 26,
     "metadata": {},
     "output_type": "execute_result"
    },
    {
     "data": {
      "image/png": "[encoded data removed]",
      "text/plain": [
       "<Figure size 432x288 with 2 Axes>"
      ]
     },
     "metadata": {
      "needs_background": "light"
     },
     "output_type": "display_data"
    }
   ],
   "source": [
    "plot_confusion_matrix(final_model, X_tes, y_tes, cmap='plasma')"
   ]
  }
 ],
 "metadata": {
  "kernelspec": {
   "display_name": "Python 3",
   "language": "python",
   "name": "python3"
  },
  "language_info": {
   "codemirror_mode": {
    "name": "ipython",
    "version": 3
   },
   "file_extension": ".py",
   "mimetype": "text/x-python",
   "name": "python",
   "nbconvert_exporter": "python",
   "pygments_lexer": "ipython3",
   "version": "3.6.9"
  }
 },
 "nbformat": 4,
 "nbformat_minor": 4
}
